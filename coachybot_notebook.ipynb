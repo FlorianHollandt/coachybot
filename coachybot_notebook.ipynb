{
 "cells": [
  {
   "cell_type": "markdown",
   "metadata": {},
   "source": [
    "# Coachybot\n",
    "\n",
    "With this notebook you can have both a full conversation with Coachybot as well as look under the hood and play around with individual parts, all without setting up the full system including Heroku and the messenger of your choice."
   ]
  },
  {
   "cell_type": "markdown",
   "metadata": {},
   "source": [
    "## Meet Coachybot\n",
    "To get a conversation started, just insert your username (if you feel like it) and execute the following cell."
   ]
  },
  {
   "cell_type": "code",
   "execution_count": null,
   "metadata": {},
   "outputs": [],
   "source": [
    "from coachybot_terminal import main\n",
    "\n",
    "username = \"User\"\n",
    "\n",
    "if __name__ == \"__main__\":\n",
    "    main( username)"
   ]
  },
  {
   "cell_type": "markdown",
   "metadata": {},
   "source": [
    "## Nodes\n",
    "\n",
    "Coachybot's coaching conersation is implemented as a graph model, with each state represented as a 'node'.\n",
    "\n",
    "If the conversation is currently in node 'HowAreYou', it means that Coachybot has just aked the user some variant of the question 'How are you?', and is now waiting for a response.\n",
    "\n",
    "Nodes are classes that take the user's history and current message as arguments and return the updated user history, the answer and the next node:"
   ]
  },
  {
   "cell_type": "code",
   "execution_count": null,
   "metadata": {},
   "outputs": [],
   "source": [
    "from node_objects import *\n",
    "from pprint import pprint\n",
    "\n",
    "user = {\n",
    "    \"firstname\"        : \"Alan\",\n",
    "    \"message_current\"  : 1501221600, # Friday, July 28, 2017 6:00:00 AM\n",
    "    \"timezone\"         : 2,          # UTC + 2 (CEST)\n",
    "}\n",
    "message = \"Hello there! :)\"\n",
    "\n",
    "test_node = Welcome( message, user, verbose=False)\n",
    "\n",
    "print \"Answer\"\n",
    "pprint( test_node.answer, width=1)\n",
    "\n",
    "print \"\\nNext node\"\n",
    "print test_node.node_next\n",
    "\n",
    "print \"\\nUser\"\n",
    "pprint( dict(test_node.user), width=1)"
   ]
  },
  {
   "cell_type": "markdown",
   "metadata": {},
   "source": [
    "I encourage you to play around with this cell to get a feeling for Coachybot's conversation logic.\n",
    "Some ideas for what you can try are:\n",
    "- Set the argument 'verbose' to True so see in some detail what happens inside this node\n",
    "- Tpye different messages in 'message' to see how Coachybot reacts\n",
    "- Use a different node from the node overview below and use it instead of 'Welcome'\n",
    "\n",
    "### Node overview\n",
    "Execute the following cell to get an alphabetical list of Coachybot's nodes."
   ]
  },
  {
   "cell_type": "code",
   "execution_count": null,
   "metadata": {},
   "outputs": [],
   "source": [
    "import inspect\n",
    "import node_objects\n",
    "\n",
    "for name, obj in inspect.getmembers( node_objects):\n",
    "    if (\n",
    "        inspect.isclass( obj) \n",
    "        and obj.__bases__[0].__name__ in [\"Template\", \"Opening\"]\n",
    "    ):\n",
    "        print name"
   ]
  },
  {
   "cell_type": "markdown",
   "metadata": {},
   "source": [
    "## Skills\n",
    "\n",
    "'Skills' are the natural language processing facilities of Coachybot.\n",
    "\n",
    "Skills are functions that evaluate whether a string (typically a sentence) is a specific type of statement. Some examples are:\n",
    "- `has_affirmation()` tests whether the sentence contains an affirmation like 'Sure!' or 'That's not quite false...'\n",
    "- `has_hesitation()` tests whether the statement consists entirely of a filler like 'Well...' or 'Good question!'\n",
    "- `has_dislike()` tests whether the statement contains a negative subjective judgement like 'I can't stand these stupid questions'\n",
    "- `has_danger_to_self()` tests whether the statement indicates a desire to harm oneself, like 'I just wish I was dead!'. In this case, Coachybot will advise the user to contact a suicide prevention hotline.\n",
    "- `has_request_to_explain()` tests whether the statement contains a prompt to elaborate why Coachybot asks a specific questions, like 'What do you mean?'\n",
    "\n",
    "Pretty much all skills are based on keyword lists and regular expressions. Some attempts for a more grammar-based approach using NLTK and sentiment analysis have been implemented, with yet unsatisfactory results.\n",
    "\n",
    "### Skill examples\n",
    "\n",
    "Execute and play around with the following cell to get a feeling for Coachybots skills."
   ]
  },
  {
   "cell_type": "code",
   "execution_count": null,
   "metadata": {},
   "outputs": [],
   "source": [
    "from skills import *\n",
    "\n",
    "message = \"Hello Coachybot! Did you have a good day?\"\n",
    "\n",
    "sentences = preprocess_message( message)\n",
    "\n",
    "hypotheses = [\n",
    "    \"has_greeting\",\n",
    "    \"has_question_how_are_you\",\n",
    "    \"has_question_how_was_your_time\",\n",
    "    \"has_question_you_had_good_time\",\n",
    "    \"has_affirmation\",\n",
    "    \"has_negation\",\n",
    "    \"is_positive\",\n",
    "    \"is_negative\",\n",
    "    \"has_fear\",\n",
    "    \"has_desire\",\n",
    "    \"has_dislike\",\n",
    "    \"has_danger_to_self\"\n",
    "]\n",
    "\n",
    "max_length = max( [len( sentence) for sentence in sentences])\n",
    "\n",
    "for sentence in sentences:\n",
    "    for hypothesis in hypotheses:\n",
    "        if check_if_statement( sentence, hypothesis):\n",
    "            print( \"{:{l}} --> {}\".format( sentence, hypothesis, l=max_length))\n",
    "        "
   ]
  },
  {
   "cell_type": "markdown",
   "metadata": {},
   "source": [
    "I am well aware that there is a whole lot of room for improvement in Coachybot's skill set. Just to list some ideas of what could be next:\n",
    "- Reflecting statements, like transforming \"I like my cat.\" to \"Why do you like your cat?\". In fact, I have already implemented a function for reflections, but so far it didn't fit into the conversation well, so it is unused.\n",
    "- Using grammar-based functions, which test a hypothesis about the statement using part-of-speech-based chunkers or context-free grammars. I have already experimented a bit with this approach, but the results have been outperformed by regular expressions and keyword lists.\n",
    "- Using sentiment analysis like Vader. The same here: I spent some hours with experimentation, but so far the results have not been convincing.\n",
    "- Using other libraries that test for natural language patterns. So far, I have not explored very deeply what else is out there - 'Not invented here'-bias, I guess.\n",
    "\n",
    "I am very much open for suggestions, hints and contributions/pull requests. If you have a specific idea for a skill Coachybot should have, feel free to get in touch with me first to explore how we can integrate it. :)"
   ]
  }
 ],
 "metadata": {
  "kernelspec": {
   "display_name": "Python 2",
   "language": "python",
   "name": "python2"
  },
  "language_info": {
   "codemirror_mode": {
    "name": "ipython",
    "version": 2
   },
   "file_extension": ".py",
   "mimetype": "text/x-python",
   "name": "python",
   "nbconvert_exporter": "python",
   "pygments_lexer": "ipython2",
   "version": "2.7.13"
  }
 },
 "nbformat": 4,
 "nbformat_minor": 2
}
