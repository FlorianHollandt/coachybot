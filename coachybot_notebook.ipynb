{
 "cells": [
  {
   "cell_type": "markdown",
   "metadata": {},
   "source": [
    "# Coachybot\n",
    "\n",
    "With this notebook you can have both a full conversation with Coachybot as well as look under the hood and play around with individual parts, all without setting up the full system including Heroku and the messenger of your choice."
   ]
  },
  {
   "cell_type": "code",
   "execution_count": 8,
   "metadata": {
    "collapsed": true
   },
   "outputs": [],
   "source": [
    "from node_objects import *\n",
    "from datetime import datetime"
   ]
  },
  {
   "cell_type": "code",
   "execution_count": 15,
   "metadata": {},
   "outputs": [
    {
     "ename": "SyntaxError",
     "evalue": "invalid syntax (<ipython-input-15-36d2b05513fc>, line 1)",
     "output_type": "error",
     "traceback": [
      "\u001b[0;36m  File \u001b[0;32m\"<ipython-input-15-36d2b05513fc>\"\u001b[0;36m, line \u001b[0;32m1\u001b[0m\n\u001b[0;31m    from \"coachybot-terminal\" import main\u001b[0m\n\u001b[0m                            ^\u001b[0m\n\u001b[0;31mSyntaxError\u001b[0m\u001b[0;31m:\u001b[0m invalid syntax\n"
     ]
    }
   ],
   "source": [
    "from \"coachybot-terminal\" import main"
   ]
  },
  {
   "cell_type": "code",
   "execution_count": 13,
   "metadata": {},
   "outputs": [
    {
     "name": "stdout",
     "output_type": "stream",
     "text": [
      "Coachybot   : Oh hello! What a pleasure to meet you, User!\n",
      "Coachybot   : My name is Coachybot, but you can call me Coachy.\n",
      "I have been programmed to improve your life by providing some basic coaching. So...\n",
      "Coachybot   : How was your day so far?\n",
      "User        : Good!\n",
      "Coachybot   : Great! :)\n",
      "Coachybot   : What was your personal highlight?\n",
      "User        : exit\n"
     ]
    }
   ],
   "source": [
    "epoch = datetime.utcfromtimestamp(0)\n",
    "def epoch_timestamp(dt):\n",
    "    return (dt - epoch).total_seconds() * 1000.0\n",
    "\n",
    "def main():\n",
    "\n",
    "    user = {\n",
    "        \"timezone\"         : 2,                 # TODO: Use timezone as offset from UTC        \n",
    "        \"firstname\"        : \"User\" ,           # TODO: Use getpass(?) to access actual username\n",
    "        \"node_current\"     : \"Welcome\",\n",
    "        \"message_first\"    : epoch_timestamp(datetime.now())/1000,\n",
    "        \"message_current\"  : epoch_timestamp(datetime.now())/1000\n",
    "    }\n",
    "\n",
    "    node_main = Welcome(\"\", user, verbose=False)\n",
    "    answer    = node_main.answer\n",
    "    next_node = node_main.node_next\n",
    "    user      = node_main.user\n",
    "\n",
    "    for line in answer:\n",
    "        print \"{:12}: \".format(\"Coachybot\") + line\n",
    "\n",
    "    while True:    \n",
    "        message = raw_input(\"{:12}: \".format(user[\"firstname\"]))\n",
    "        system_time = epoch_timestamp(datetime.now())/1000\n",
    "     \n",
    "        if message in [\"quit\", \"exit\", \"q\"]:\n",
    "            break\n",
    "\n",
    "        user.update({\n",
    "            \"message_current\"     : system_time\n",
    "            })\n",
    "     \n",
    "        node_main = eval(user[\"node_current\"])(message, user, verbose=False)\n",
    "        answer    = node_main.answer\n",
    "        next_node = node_main.node_next\n",
    "        user      = node_main.user\n",
    "\n",
    "        for line in answer:\n",
    "            print \"{:12}: \".format(\"Coachybot\") + line\n",
    "\n",
    "if __name__ == \"__main__\":\n",
    "    main()"
   ]
  },
  {
   "cell_type": "code",
   "execution_count": 10,
   "metadata": {},
   "outputs": [
    {
     "name": "stdout",
     "output_type": "stream",
     "text": [
      "Evaluating node 'Welcome'\n",
      "Converting 'user' from dict to defaultdict.\n",
      "Current time in timezone UTC+2: 8\n",
      "1.: hello there!\n",
      "2.: \n",
      "Extensive greeting after long interruption.\n",
      "Introduction to new user, deleting greeting (if present).\n",
      "\n",
      "Message facts       :\n",
      "                    - has greeting\n",
      "\n",
      "Answer facts        :\n",
      "                    - has introduction\n",
      "                    - use user firstname\n",
      "                    - has question how are you\n",
      "                    - use user firstname\n",
      "\n",
      "User                : Hello there! :)\n",
      "Answer              : Oh hello! What a pleasure to meet you, Alan! My name is Coachybot, but you can call me Coachy.\n",
      "I have been programmed to improve your life by providing some basic coaching. So... How is your morning?\n",
      "\n",
      "User data updates   :\n",
      "username            :              --> False       \n",
      "node_current        :              --> HowAreYou   \n",
      "message_previous    :              --> 1501221600  \n",
      "node_previous       :              --> Welcome     \n"
     ]
    }
   ],
   "source": [
    "user = {\n",
    "    \"firstname\"        : \"Alan\",\n",
    "    \"message_current\"  : 1501221600, # Friday, July 28, 2017 6:00:00 AM\n",
    "    \"timezone\"         : 2,          # UTC + 2 (CEST)\n",
    "}\n",
    "message = \"Hello there! :)\"\n",
    "\n",
    "test_node = Welcome( message, user, verbose=True)"
   ]
  },
  {
   "cell_type": "code",
   "execution_count": null,
   "metadata": {
    "collapsed": true
   },
   "outputs": [],
   "source": []
  }
 ],
 "metadata": {
  "kernelspec": {
   "display_name": "Python 2",
   "language": "python",
   "name": "python2"
  },
  "language_info": {
   "codemirror_mode": {
    "name": "ipython",
    "version": 2
   },
   "file_extension": ".py",
   "mimetype": "text/x-python",
   "name": "python",
   "nbconvert_exporter": "python",
   "pygments_lexer": "ipython2",
   "version": "2.7.13"
  }
 },
 "nbformat": 4,
 "nbformat_minor": 2
}
